{
 "cells": [
  {
   "cell_type": "markdown",
   "source": [
    "## Whatsapp Chat File Merger\r\n",
    "In This file we will be making a quick file that can merge different files that we uplaod from whatsapp, which are usually from differnt time periods, which means that you would have different time stamps scattered thoughout the files, and no order of the dates is maintained when we uplaod it at different times. Most of the time that I upload, there are a lot of duplicates in the file, which means it I have to manually find the last place that I left out. I have open the file, scroll some hundreds of lines, and then find the place that I have to insert the new file to, cut copy, delete, and all that. I would like to automate all that. So the Objectives of this file will be to:\r\n",
    "\r\n",
    "1. To Accept different filenames along with their full pathnames\r\n",
    "2. Make a single file with all that just combined simply. \r\n",
    "3. Convert each line to a pandas dataframe\r\n",
    "4. Sort the entire dataFrame with the Date column\r\n",
    "5. Delete the duplicates\r\n",
    "6. Export to a text file. "
   ],
   "metadata": {}
  },
  {
   "cell_type": "markdown",
   "source": [
    "# Accepting Input (not thinking about how I would do this in a file rn)\r\n"
   ],
   "metadata": {}
  },
  {
   "cell_type": "code",
   "execution_count": 15,
   "source": [
    "import pandas as pd\r\n",
    "import numpy as np\r\n",
    "import os, time, re\r\n",
    "from datetime import datetime"
   ],
   "outputs": [],
   "metadata": {}
  },
  {
   "cell_type": "code",
   "execution_count": 78,
   "source": [
    "huge_list = [];\r\n",
    "\r\n",
    "number = int(input('Please enter the number of files that you want to merge'))\r\n",
    "for i in range(number):\r\n",
    "    file_list = []\r\n",
    "    print('Please enter the name of the file you wanna merge')\r\n",
    "    f = input()\r\n",
    "    with open(f, 'r+', encoding = 'utf8') as File:\r\n",
    "        lines = File.readlines()\r\n",
    "        for l in lines[:]:\r\n",
    "            # date_regex = re.compile(r\"((\\d|1[0-2])/[0-2]\\d|3[01])/([12]\\d{1}[,])\")\r\n",
    "            # match = date_regex.search(l)\r\n",
    "            # if match == None:\r\n",
    "            #     lines.remove(l)\r\n",
    "            if '/' not in l:\r\n",
    "                lines.remove(l)\r\n",
    "            elif 'Messages and calls are end-to-end encrypted' in l:\r\n",
    "                lines.remove(l)\r\n",
    "\r\n",
    "    huge_list.append(lines)"
   ],
   "outputs": [
    {
     "output_type": "stream",
     "name": "stdout",
     "text": [
      "Please enter the name of the file you wanna merge\n",
      "Please enter the name of the file you wanna merge\n"
     ]
    }
   ],
   "metadata": {}
  },
  {
   "cell_type": "code",
   "execution_count": 212,
   "source": [
    "final_list = []\r\n",
    "dateformat = '%m/%d/%y %H:%M'\r\n",
    "\r\n",
    "for i in huge_list:\r\n",
    "    for j in i:\r\n",
    "        this_date = datetime.strptime(j.split()[0].strip(',') + ' ' + j.split()[1], dateformat)    \r\n",
    "        final_list.append([this_date, j])\r\n",
    "    \r\n",
    "df = pd.DataFrame(final_list, columns = ['Date', 'Message'])\r\n",
    "    "
   ],
   "outputs": [],
   "metadata": {}
  },
  {
   "cell_type": "code",
   "execution_count": 213,
   "source": [
    "df = df.drop_duplicates()"
   ],
   "outputs": [],
   "metadata": {}
  },
  {
   "cell_type": "code",
   "execution_count": 214,
   "source": [
    "df = df.sort_values(by = \"Date\", kind = 'mergesort')\r\n",
    "df = df.reset_index()"
   ],
   "outputs": [],
   "metadata": {}
  },
  {
   "cell_type": "code",
   "execution_count": 215,
   "source": [
    "final_list = []\r\n",
    "for i in range(len(df)):\r\n",
    "    final_list.append(df[\"Message\"][i])"
   ],
   "outputs": [],
   "metadata": {}
  },
  {
   "cell_type": "code",
   "execution_count": 216,
   "source": [
    "with open('merged.txt', 'r+', encoding = 'utf8') as File:\r\n",
    "    File.writelines(final_list)"
   ],
   "outputs": [],
   "metadata": {}
  },
  {
   "cell_type": "code",
   "execution_count": null,
   "source": [],
   "outputs": [],
   "metadata": {}
  }
 ],
 "metadata": {
  "orig_nbformat": 4,
  "language_info": {
   "name": "python",
   "version": "3.8.8",
   "mimetype": "text/x-python",
   "codemirror_mode": {
    "name": "ipython",
    "version": 3
   },
   "pygments_lexer": "ipython3",
   "nbconvert_exporter": "python",
   "file_extension": ".py"
  },
  "kernelspec": {
   "name": "python3",
   "display_name": "Python 3.8.8 64-bit ('file_merger_env': venv)"
  },
  "interpreter": {
   "hash": "9f5ea5243e1a022801786966057160ca4c4ff892dd7519ffc91ed07ddb3a506c"
  }
 },
 "nbformat": 4,
 "nbformat_minor": 2
}